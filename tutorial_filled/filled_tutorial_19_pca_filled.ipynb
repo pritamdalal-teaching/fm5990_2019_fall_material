{
 "cells": [
  {
   "cell_type": "markdown",
   "metadata": {},
   "source": [
    "# Tutorial 19 - Principal Components Analysis"
   ]
  },
  {
   "cell_type": "markdown",
   "metadata": {},
   "source": [
    "In a *supervised* learning problem we, seek to predict a label from a set of features.  If the label we are predicting is continuous, this is known as a regression problem.  If the label is discrete, this is known as a classification problem.\n",
    "\n",
    "We now turn our attention to *unsupervised* learning.  The goal of unsupervised learning is no longer the prediction of a label. Rather we seek to seek to discover interesting or useful things about the features themselves.  Unsupervised learning is more subjective, and therefore more difficult, than supervised learning.  Determining what is *interesting* is quite subjective, and it is harder to assess how successfully you have discovered these interesting things.\n",
    "  \n",
    "Unspervised learning is often used in the exploratory data analysis process, or as a data preprocessing step to a supervised learning problem.\n",
    "\n",
    "This tutorial is an intuitive introduction to principal components analysis (PCA), which is an technique used to reduced the dimensionality of a set of features.  In particular, we apply this technique to our VIX term structure data."
   ]
  },
  {
   "cell_type": "markdown",
   "metadata": {},
   "source": [
    "### Load Packages"
   ]
  },
  {
   "cell_type": "markdown",
   "metadata": {},
   "source": [
    "Let's begin by loading the packages that we will need."
   ]
  },
  {
   "cell_type": "code",
   "execution_count": 1,
   "metadata": {},
   "outputs": [],
   "source": [
    "import numpy as np\n",
    "import pandas as pd\n",
    "import seaborn as sns\n",
    "import sklearn\n",
    "import matplotlib.pyplot as plt\n",
    "%matplotlib inline"
   ]
  },
  {
   "cell_type": "markdown",
   "metadata": {},
   "source": [
    "### Reading in Data"
   ]
  },
  {
   "cell_type": "markdown",
   "metadata": {},
   "source": [
    "Next, let's read-in the same data set that we used in the k-nearest-neighbors tutorial."
   ]
  },
  {
   "cell_type": "code",
   "execution_count": 2,
   "metadata": {},
   "outputs": [
    {
     "data": {
      "text/html": [
       "<div>\n",
       "<style scoped>\n",
       "    .dataframe tbody tr th:only-of-type {\n",
       "        vertical-align: middle;\n",
       "    }\n",
       "\n",
       "    .dataframe tbody tr th {\n",
       "        vertical-align: top;\n",
       "    }\n",
       "\n",
       "    .dataframe thead th {\n",
       "        text-align: right;\n",
       "    }\n",
       "</style>\n",
       "<table border=\"1\" class=\"dataframe\">\n",
       "  <thead>\n",
       "    <tr style=\"text-align: right;\">\n",
       "      <th></th>\n",
       "      <th>trade_date</th>\n",
       "      <th>vix_009</th>\n",
       "      <th>vix_030</th>\n",
       "      <th>vix_090</th>\n",
       "      <th>vix_180</th>\n",
       "    </tr>\n",
       "  </thead>\n",
       "  <tbody>\n",
       "    <tr>\n",
       "      <th>1</th>\n",
       "      <td>2011-01-04</td>\n",
       "      <td>0.02</td>\n",
       "      <td>-0.23</td>\n",
       "      <td>-0.01</td>\n",
       "      <td>-0.21</td>\n",
       "    </tr>\n",
       "    <tr>\n",
       "      <th>2</th>\n",
       "      <td>2011-01-05</td>\n",
       "      <td>-0.49</td>\n",
       "      <td>-0.36</td>\n",
       "      <td>-0.56</td>\n",
       "      <td>-0.41</td>\n",
       "    </tr>\n",
       "    <tr>\n",
       "      <th>3</th>\n",
       "      <td>2011-01-06</td>\n",
       "      <td>0.14</td>\n",
       "      <td>0.38</td>\n",
       "      <td>0.30</td>\n",
       "      <td>0.09</td>\n",
       "    </tr>\n",
       "    <tr>\n",
       "      <th>4</th>\n",
       "      <td>2011-01-07</td>\n",
       "      <td>-0.70</td>\n",
       "      <td>-0.26</td>\n",
       "      <td>-0.06</td>\n",
       "      <td>0.05</td>\n",
       "    </tr>\n",
       "    <tr>\n",
       "      <th>5</th>\n",
       "      <td>2011-01-10</td>\n",
       "      <td>0.80</td>\n",
       "      <td>0.40</td>\n",
       "      <td>0.19</td>\n",
       "      <td>0.01</td>\n",
       "    </tr>\n",
       "  </tbody>\n",
       "</table>\n",
       "</div>"
      ],
      "text/plain": [
       "   trade_date  vix_009  vix_030  vix_090  vix_180\n",
       "1  2011-01-04     0.02    -0.23    -0.01    -0.21\n",
       "2  2011-01-05    -0.49    -0.36    -0.56    -0.41\n",
       "3  2011-01-06     0.14     0.38     0.30     0.09\n",
       "4  2011-01-07    -0.70    -0.26    -0.06     0.05\n",
       "5  2011-01-10     0.80     0.40     0.19     0.01"
      ]
     },
     "execution_count": 2,
     "metadata": {},
     "output_type": "execute_result"
    }
   ],
   "source": [
    "df_vix = pd.read_csv('../data/vix_knn.csv')\n",
    "df_vix = df_vix[df_vix.trade_date > '2011-01-03'] #removing the first row of NaNs\n",
    "df_vix.drop(['spy_ret'], axis=1, inplace=True) # dropping the returns (label) column\n",
    "df_vix.head()"
   ]
  },
  {
   "cell_type": "markdown",
   "metadata": {},
   "source": [
    "Recall that this data set represents the daily changes in various points in the implied volatility term structure.  We'll also be interested in the absolute levels of the VIX term structure as well, so let's import that data now."
   ]
  },
  {
   "cell_type": "code",
   "execution_count": 3,
   "metadata": {},
   "outputs": [
    {
     "data": {
      "text/html": [
       "<div>\n",
       "<style scoped>\n",
       "    .dataframe tbody tr th:only-of-type {\n",
       "        vertical-align: middle;\n",
       "    }\n",
       "\n",
       "    .dataframe tbody tr th {\n",
       "        vertical-align: top;\n",
       "    }\n",
       "\n",
       "    .dataframe thead th {\n",
       "        text-align: right;\n",
       "    }\n",
       "</style>\n",
       "<table border=\"1\" class=\"dataframe\">\n",
       "  <thead>\n",
       "    <tr style=\"text-align: right;\">\n",
       "      <th></th>\n",
       "      <th>trade_date</th>\n",
       "      <th>vix_009</th>\n",
       "      <th>vix_030</th>\n",
       "      <th>vix_090</th>\n",
       "      <th>vix_180</th>\n",
       "    </tr>\n",
       "  </thead>\n",
       "  <tbody>\n",
       "    <tr>\n",
       "      <th>0</th>\n",
       "      <td>2011-01-03</td>\n",
       "      <td>16.04</td>\n",
       "      <td>17.61</td>\n",
       "      <td>20.62</td>\n",
       "      <td>23.40</td>\n",
       "    </tr>\n",
       "    <tr>\n",
       "      <th>1</th>\n",
       "      <td>2011-01-04</td>\n",
       "      <td>16.06</td>\n",
       "      <td>17.38</td>\n",
       "      <td>20.61</td>\n",
       "      <td>23.19</td>\n",
       "    </tr>\n",
       "    <tr>\n",
       "      <th>2</th>\n",
       "      <td>2011-01-05</td>\n",
       "      <td>15.57</td>\n",
       "      <td>17.02</td>\n",
       "      <td>20.05</td>\n",
       "      <td>22.78</td>\n",
       "    </tr>\n",
       "    <tr>\n",
       "      <th>3</th>\n",
       "      <td>2011-01-06</td>\n",
       "      <td>15.71</td>\n",
       "      <td>17.40</td>\n",
       "      <td>20.35</td>\n",
       "      <td>22.87</td>\n",
       "    </tr>\n",
       "    <tr>\n",
       "      <th>4</th>\n",
       "      <td>2011-01-07</td>\n",
       "      <td>15.01</td>\n",
       "      <td>17.14</td>\n",
       "      <td>20.29</td>\n",
       "      <td>22.92</td>\n",
       "    </tr>\n",
       "  </tbody>\n",
       "</table>\n",
       "</div>"
      ],
      "text/plain": [
       "   trade_date  vix_009  vix_030  vix_090  vix_180\n",
       "0  2011-01-03    16.04    17.61    20.62    23.40\n",
       "1  2011-01-04    16.06    17.38    20.61    23.19\n",
       "2  2011-01-05    15.57    17.02    20.05    22.78\n",
       "3  2011-01-06    15.71    17.40    20.35    22.87\n",
       "4  2011-01-07    15.01    17.14    20.29    22.92"
      ]
     },
     "execution_count": 3,
     "metadata": {},
     "output_type": "execute_result"
    }
   ],
   "source": [
    "df_vix_ts = pd.read_csv('../data/vix_term_structure.csv')\n",
    "df_vix_ts.drop(['spy_ret'], axis=1, inplace=True) # dropping returns column\n",
    "df_vix_ts.head()"
   ]
  },
  {
   "cell_type": "markdown",
   "metadata": {},
   "source": [
    "### Typical Term Structure"
   ]
  },
  {
   "cell_type": "markdown",
   "metadata": {},
   "source": [
    "It is useful to think of both `df_vix` and `df_vix_ts` as living in Euclidean space.  However, they mostly live in certain specific subspaces of Euclidean space, and it's the goal of PCA to give this observation a more specific meaning.  \n",
    "\n",
    "Before we dive into the specifics of PCA, let's develop an intuition for what a typical VIX term structure looks like, and what kind of daily changes are typical in the term structure.\n",
    "\n",
    "The first stylized fact about the VIX term structre is that it is usually monotonically increasing. "
   ]
  },
  {
   "cell_type": "code",
   "execution_count": 4,
   "metadata": {},
   "outputs": [
    {
     "data": {
      "text/plain": [
       "0.6923459244532804"
      ]
     },
     "execution_count": 4,
     "metadata": {},
     "output_type": "execute_result"
    }
   ],
   "source": [
    "cond1 = (df_vix_ts.vix_009 <= df_vix_ts.vix_030)\n",
    "cond2 = (df_vix_ts.vix_030 <= df_vix_ts.vix_090)\n",
    "cond3 = (df_vix_ts.vix_090 <= df_vix_ts.vix_180)\n",
    "\n",
    "df_vix_ts[cond1 & cond2 & cond3].shape[0] / df_vix_ts.shape[0]"
   ]
  },
  {
   "cell_type": "markdown",
   "metadata": {},
   "source": [
    "Notice that about 70% of days in our data set have an unpwardly sloping term struture."
   ]
  },
  {
   "cell_type": "markdown",
   "metadata": {},
   "source": [
    "**Coding Challenge:** Find the percentage of days in which the 9-day VIX is greater than the 180-day VIX (we'll refer to this as an inverted VIX term structure)."
   ]
  },
  {
   "cell_type": "code",
   "execution_count": null,
   "metadata": {},
   "outputs": [],
   "source": [
    "\n",
    "\n",
    "\n"
   ]
  },
  {
   "cell_type": "markdown",
   "metadata": {},
   "source": [
    "### Typical Term-Structure Changes"
   ]
  },
  {
   "cell_type": "markdown",
   "metadata": {},
   "source": [
    "Next we perform a similar analysis on the daily VIX changes, which are stored in `df_vix`.  The following code shows that on 75% of days, all the point on the VIX term structure rise or fall together."
   ]
  },
  {
   "cell_type": "code",
   "execution_count": 5,
   "metadata": {},
   "outputs": [
    {
     "data": {
      "text/plain": [
       "0.7454002983590253"
      ]
     },
     "execution_count": 5,
     "metadata": {},
     "output_type": "execute_result"
    }
   ],
   "source": [
    "# decreasing\n",
    "cond1 = (df_vix.vix_009 <= 0) \n",
    "cond2 = (df_vix.vix_030 <= 0)\n",
    "cond3 = (df_vix.vix_090 <= 0)\n",
    "cond4 = (df_vix.vix_180 <= 0)\n",
    "\n",
    "# increasing\n",
    "cond5 = (df_vix.vix_009 >= 0) \n",
    "cond6 = (df_vix.vix_030 >= 0)\n",
    "cond7 = (df_vix.vix_090 >= 0)\n",
    "cond8 = (df_vix.vix_180 >= 0)\n",
    "\n",
    "\n",
    "cond = (cond1 & cond2 & cond3 & cond4) | (cond5 & cond6 & cond7 & cond8)\n",
    "\n",
    "\n",
    "df_vix[cond].shape[0] / df_vix.shape[0]"
   ]
  },
  {
   "cell_type": "markdown",
   "metadata": {},
   "source": [
    "This is also reflected in the strong positive correlations that we can observe in the following pair plot. "
   ]
  },
  {
   "cell_type": "code",
   "execution_count": 6,
   "metadata": {},
   "outputs": [
    {
     "data": {
      "image/png": "[encoded data removed]",
      "text/plain": [
       "<Figure size 720x720 with 20 Axes>"
      ]
     },
     "metadata": {
      "needs_background": "light"
     },
     "output_type": "display_data"
    }
   ],
   "source": [
    "sns.pairplot(df_vix[['vix_009', 'vix_030', 'vix_090', 'vix_180']]);"
   ]
  },
  {
   "cell_type": "markdown",
   "metadata": {},
   "source": [
    "### Summarizing Our Results"
   ]
  },
  {
   "cell_type": "markdown",
   "metadata": {},
   "source": [
    "Let's summarize our findings from above:\n",
    "\n",
    "1. About 70% of the time the VIX term structure is monotonically increasing.\n",
    "\n",
    "2. About 10% of the time the VIX term structure is inverted with 9-day greater than 180-day.\n",
    "\n",
    "3. On 75% of days, all points on the term structure either rise or fall together."
   ]
  },
  {
   "cell_type": "markdown",
   "metadata": {},
   "source": [
    "**Discussion Question:** If you were to construct a forecasting model for the VIX, would your model assert that all points of the term structure move completely independently of one another?"
   ]
  },
  {
   "cell_type": "code",
   "execution_count": null,
   "metadata": {},
   "outputs": [],
   "source": [
    "\n",
    "\n",
    "\n"
   ]
  },
  {
   "cell_type": "markdown",
   "metadata": {},
   "source": [
    " "
   ]
  },
  {
   "cell_type": "markdown",
   "metadata": {},
   "source": [
    "### PCA Overview"
   ]
  },
  {
   "cell_type": "markdown",
   "metadata": {},
   "source": [
    "The purpose of this tutorial is to give an intuitive introduction to PCA, and how to implement it in `sklearn`.  We are not going to get into the mathematical specifics, which involve a fair amount of linear algebra.  \n",
    "\n",
    "Instead, here is an overview of the essential ideas:\n",
    "\n",
    "1. In PCA we are trying to understand a $n$ sized set of $p$-dimensional features. Each of the $n$ feature observations is a vector of $p$ numbers.  It is usually best to scale the features so that each component has mean zero and standard deviation 1.\n",
    "\n",
    "2. We can think of our feature set as a collection of point, living in $p$-dimensional euclidean space ($R^{p}$), with the points being centered around the origin.\n",
    "\n",
    "3. It is often the case that there is some $q$ that is smaller than $p$, such that most of the variation of the features can be described by a $q$ dimensional linear subspace of ${R}^p$.\n",
    "\n",
    "4. PCA is a technique for finding the basis of this $q$ dimensional subspace.\n",
    "\n",
    "5. The first element of this basis is the vector (which defines a line that goes through the origin) that is collectively closest to all of the feature observations.  This is conceptually similar to fitting a regression line.  This vector is called the *first principal component*.  It has the property that if we project our feature observation onto that vector, the sample variance of the projections is maximized.\n",
    "\n",
    "6. The second element of this basis is called the *second principal* component.  It is found by considering all vectors which are perpendicular to the first principle component.  Among these perpendicular vectors, the second component is the one which bests fits the the feature observations.  It has the property that if we project our feature observations onto that vector, then we maximize the sample variance of the projections (among all vectors that are perpendicular to the first principle component).\n",
    "\n",
    "7. We repeat this algorithm until we arrive at $q$ principle components."
   ]
  },
  {
   "cell_type": "markdown",
   "metadata": {},
   "source": [
    "### Performing a PCA on the VIX Changes"
   ]
  },
  {
   "cell_type": "markdown",
   "metadata": {},
   "source": [
    "Let's now perform a PCA on our `df_vix` data set using **sklearn**.\n",
    "\n",
    "We'll begin by normaling our features so that they have mean zero and unity standard deviation."
   ]
  },
  {
   "cell_type": "code",
   "execution_count": 7,
   "metadata": {},
   "outputs": [],
   "source": [
    "from sklearn.preprocessing import scale\n",
    "\n",
    "# feature selection\n",
    "X = df_vix[['vix_009', 'vix_030', 'vix_090', 'vix_180']]\n",
    "\n",
    "# scaling fetures\n",
    "Xs = scale(X)"
   ]
  },
  {
   "cell_type": "markdown",
   "metadata": {},
   "source": [
    "Next, we'll instantiate our pca model and then fit for $q = 3$ components."
   ]
  },
  {
   "cell_type": "code",
   "execution_count": 8,
   "metadata": {},
   "outputs": [
    {
     "data": {
      "text/plain": [
       "PCA(copy=True, iterated_power='auto', n_components=3, random_state=None,\n",
       "  svd_solver='auto', tol=0.0, whiten=False)"
      ]
     },
     "execution_count": 8,
     "metadata": {},
     "output_type": "execute_result"
    }
   ],
   "source": [
    "from sklearn.decomposition import PCA\n",
    "pca = PCA(n_components=3)\n",
    "pca.fit(Xs)"
   ]
  },
  {
   "cell_type": "markdown",
   "metadata": {},
   "source": [
    "We can view the actual principal components by printing the `.components` property our model."
   ]
  },
  {
   "cell_type": "code",
   "execution_count": 9,
   "metadata": {},
   "outputs": [
    {
     "name": "stdout",
     "output_type": "stream",
     "text": [
      "[[ 0.48854882  0.50863285  0.5063361   0.49622216]\n",
      " [ 0.73980156  0.15854235 -0.30757946 -0.57702067]\n",
      " [-0.40057447  0.53375678  0.4395292  -0.60121367]]\n"
     ]
    }
   ],
   "source": [
    "print(pca.components_)"
   ]
  },
  {
   "cell_type": "markdown",
   "metadata": {},
   "source": [
    "To see what percentage of the overall variation is explained by each of the components, we print the `.explained_variance_ratio` property."
   ]
  },
  {
   "cell_type": "code",
   "execution_count": 10,
   "metadata": {},
   "outputs": [
    {
     "name": "stdout",
     "output_type": "stream",
     "text": [
      "[0.94602979 0.04134279 0.00840214]\n"
     ]
    }
   ],
   "source": [
    "print(pca.explained_variance_ratio_)"
   ]
  },
  {
   "cell_type": "markdown",
   "metadata": {},
   "source": [
    "Notice that 95% the total variance is explained by the first component. "
   ]
  },
  {
   "cell_type": "markdown",
   "metadata": {},
   "source": [
    "**Code Challenge:** Try refitting the PCA with `n_components=4`.\n",
    "\n",
    "1. Are the first three components the same as before?\n",
    "\n",
    "1. What is the total amount of variance explained by the four componets?\n",
    "\n",
    "1. What happens when you set `n_components=5` and try to refit?"
   ]
  },
  {
   "cell_type": "code",
   "execution_count": null,
   "metadata": {},
   "outputs": [],
   "source": [
    "\n",
    "\n",
    "\n"
   ]
  },
  {
   "cell_type": "markdown",
   "metadata": {},
   "source": [
    "### Understanding the First Three Principal Components: Level, Slope, Curvature"
   ]
  },
  {
   "cell_type": "markdown",
   "metadata": {},
   "source": [
    "Let's again look at the first three principal components."
   ]
  },
  {
   "cell_type": "code",
   "execution_count": 11,
   "metadata": {},
   "outputs": [
    {
     "name": "stdout",
     "output_type": "stream",
     "text": [
      "[[ 0.48854882  0.50863285  0.5063361   0.49622216]\n",
      " [ 0.73980156  0.15854235 -0.30757946 -0.57702067]\n",
      " [-0.40057447  0.53375678  0.4395292  -0.60121367]]\n",
      "[0.94602979 0.04134279 0.00840214]\n"
     ]
    }
   ],
   "source": [
    "from sklearn.decomposition import PCA\n",
    "pca = PCA(n_components=3)\n",
    "pca.fit(Xs)\n",
    "print(pca.components_)\n",
    "print(pca.explained_variance_ratio_)"
   ]
  },
  {
   "cell_type": "markdown",
   "metadata": {},
   "source": [
    "These components have a very intuitive interpration (which is not always the case in PCA):\n",
    "\n",
    "1. **Level:** the first component represents parallel shifts in the VIX term structure - all points increasing or all decreasing.\n",
    "    - 95% of total variance explained\n",
    "    - this means that all the points of the term structure are strongly positively correlated\n",
    "    - we can see this in our pair-plots above, as well as the fact that 75% of days had all points going up or all points going down\n",
    "    \n",
    "    \n",
    "2. **Slope:** the second component represents the front of the curve going up, and the back of the curve going down.\n",
    "    - explains 4% of total variance\n",
    "    - recall that about 70% of days had an upward sloping term structure, and 10% of all days had a downward sloping term structure\n",
    "    - in order for the term structure to go from upward sloping to downward sloping, the curve would need this kind of a move (most likely in conjunction with a parallel shift)\n",
    "    \n",
    "    \n",
    "3. **Curvature:** the third component represnts changes in curvature - moving from more concave to more convex.\n",
    "    - 1% of total variance"
   ]
  }
 ],
 "metadata": {
  "kernelspec": {
   "display_name": "Python 3",
   "language": "python",
   "name": "python3"
  },
  "language_info": {
   "codemirror_mode": {
    "name": "ipython",
    "version": 3
   },
   "file_extension": ".py",
   "mimetype": "text/x-python",
   "name": "python",
   "nbconvert_exporter": "python",
   "pygments_lexer": "ipython3",
   "version": "3.6.8"
  }
 },
 "nbformat": 4,
 "nbformat_minor": 2
}
