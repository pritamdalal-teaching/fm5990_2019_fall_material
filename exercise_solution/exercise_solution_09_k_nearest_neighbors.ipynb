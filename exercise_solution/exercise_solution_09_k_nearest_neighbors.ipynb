{
 "cells": [
  {
   "cell_type": "markdown",
   "metadata": {},
   "source": [
    "# Exercise 9 - KNN Classification"
   ]
  },
  {
   "cell_type": "markdown",
   "metadata": {},
   "source": [
    "In Tutorial 20, we devised a simple classification problem involving daily changes in VIX levels and daily changes SPY returns.  In particular, we used k-nearest neighbors to identify a given daily return as a gain or a loss by analyzing changes in the VIX from *the same day*.  We found that the prediction accuracy to be a little over 80%, which is quite strong.\n",
    "\n",
    "In this exercise, we extend that analysis to try to predict whether *the following day* will be a gain or a loss by looking at VIX changes from the current day.  As you will see, there is very little predictive power in this methodology."
   ]
  },
  {
   "cell_type": "markdown",
   "metadata": {},
   "source": [
    "#### 1) Import the packages that you think you will need."
   ]
  },
  {
   "cell_type": "code",
   "execution_count": 1,
   "metadata": {},
   "outputs": [],
   "source": [
    "import pandas as pd\n",
    "import numpy as np\n",
    "import sklearn"
   ]
  },
  {
   "cell_type": "markdown",
   "metadata": {},
   "source": [
    "#### 2) Read in the data from `vix_knn.csv` and assign it to a variable called `df_vix`."
   ]
  },
  {
   "cell_type": "code",
   "execution_count": 2,
   "metadata": {},
   "outputs": [
    {
     "data": {
      "text/html": [
       "<div>\n",
       "<style scoped>\n",
       "    .dataframe tbody tr th:only-of-type {\n",
       "        vertical-align: middle;\n",
       "    }\n",
       "\n",
       "    .dataframe tbody tr th {\n",
       "        vertical-align: top;\n",
       "    }\n",
       "\n",
       "    .dataframe thead th {\n",
       "        text-align: right;\n",
       "    }\n",
       "</style>\n",
       "<table border=\"1\" class=\"dataframe\">\n",
       "  <thead>\n",
       "    <tr style=\"text-align: right;\">\n",
       "      <th></th>\n",
       "      <th>trade_date</th>\n",
       "      <th>vix_009</th>\n",
       "      <th>vix_030</th>\n",
       "      <th>vix_090</th>\n",
       "      <th>vix_180</th>\n",
       "      <th>spy_ret</th>\n",
       "    </tr>\n",
       "  </thead>\n",
       "  <tbody>\n",
       "    <tr>\n",
       "      <th>0</th>\n",
       "      <td>2011-01-03</td>\n",
       "      <td>NaN</td>\n",
       "      <td>NaN</td>\n",
       "      <td>NaN</td>\n",
       "      <td>NaN</td>\n",
       "      <td>0.010338</td>\n",
       "    </tr>\n",
       "    <tr>\n",
       "      <th>1</th>\n",
       "      <td>2011-01-04</td>\n",
       "      <td>0.02</td>\n",
       "      <td>-0.23</td>\n",
       "      <td>-0.01</td>\n",
       "      <td>-0.21</td>\n",
       "      <td>-0.000551</td>\n",
       "    </tr>\n",
       "    <tr>\n",
       "      <th>2</th>\n",
       "      <td>2011-01-05</td>\n",
       "      <td>-0.49</td>\n",
       "      <td>-0.36</td>\n",
       "      <td>-0.56</td>\n",
       "      <td>-0.41</td>\n",
       "      <td>0.005198</td>\n",
       "    </tr>\n",
       "    <tr>\n",
       "      <th>3</th>\n",
       "      <td>2011-01-06</td>\n",
       "      <td>0.14</td>\n",
       "      <td>0.38</td>\n",
       "      <td>0.30</td>\n",
       "      <td>0.09</td>\n",
       "      <td>-0.001959</td>\n",
       "    </tr>\n",
       "    <tr>\n",
       "      <th>4</th>\n",
       "      <td>2011-01-07</td>\n",
       "      <td>-0.70</td>\n",
       "      <td>-0.26</td>\n",
       "      <td>-0.06</td>\n",
       "      <td>0.05</td>\n",
       "      <td>-0.001962</td>\n",
       "    </tr>\n",
       "  </tbody>\n",
       "</table>\n",
       "</div>"
      ],
      "text/plain": [
       "   trade_date  vix_009  vix_030  vix_090  vix_180   spy_ret\n",
       "0  2011-01-03      NaN      NaN      NaN      NaN  0.010338\n",
       "1  2011-01-04     0.02    -0.23    -0.01    -0.21 -0.000551\n",
       "2  2011-01-05    -0.49    -0.36    -0.56    -0.41  0.005198\n",
       "3  2011-01-06     0.14     0.38     0.30     0.09 -0.001959\n",
       "4  2011-01-07    -0.70    -0.26    -0.06     0.05 -0.001962"
      ]
     },
     "execution_count": 2,
     "metadata": {},
     "output_type": "execute_result"
    }
   ],
   "source": [
    "df_vix = pd.read_csv('../data/vix_knn.csv')\n",
    "df_vix.head()"
   ]
  },
  {
   "cell_type": "markdown",
   "metadata": {},
   "source": [
    "#### 3) Notice that the first row of `df_vix` contains `NaN` values, so remove the first row."
   ]
  },
  {
   "cell_type": "code",
   "execution_count": 3,
   "metadata": {},
   "outputs": [
    {
     "data": {
      "text/html": [
       "<div>\n",
       "<style scoped>\n",
       "    .dataframe tbody tr th:only-of-type {\n",
       "        vertical-align: middle;\n",
       "    }\n",
       "\n",
       "    .dataframe tbody tr th {\n",
       "        vertical-align: top;\n",
       "    }\n",
       "\n",
       "    .dataframe thead th {\n",
       "        text-align: right;\n",
       "    }\n",
       "</style>\n",
       "<table border=\"1\" class=\"dataframe\">\n",
       "  <thead>\n",
       "    <tr style=\"text-align: right;\">\n",
       "      <th></th>\n",
       "      <th>trade_date</th>\n",
       "      <th>vix_009</th>\n",
       "      <th>vix_030</th>\n",
       "      <th>vix_090</th>\n",
       "      <th>vix_180</th>\n",
       "      <th>spy_ret</th>\n",
       "    </tr>\n",
       "  </thead>\n",
       "  <tbody>\n",
       "    <tr>\n",
       "      <th>1</th>\n",
       "      <td>2011-01-04</td>\n",
       "      <td>0.02</td>\n",
       "      <td>-0.23</td>\n",
       "      <td>-0.01</td>\n",
       "      <td>-0.21</td>\n",
       "      <td>-0.000551</td>\n",
       "    </tr>\n",
       "    <tr>\n",
       "      <th>2</th>\n",
       "      <td>2011-01-05</td>\n",
       "      <td>-0.49</td>\n",
       "      <td>-0.36</td>\n",
       "      <td>-0.56</td>\n",
       "      <td>-0.41</td>\n",
       "      <td>0.005198</td>\n",
       "    </tr>\n",
       "    <tr>\n",
       "      <th>3</th>\n",
       "      <td>2011-01-06</td>\n",
       "      <td>0.14</td>\n",
       "      <td>0.38</td>\n",
       "      <td>0.30</td>\n",
       "      <td>0.09</td>\n",
       "      <td>-0.001959</td>\n",
       "    </tr>\n",
       "    <tr>\n",
       "      <th>4</th>\n",
       "      <td>2011-01-07</td>\n",
       "      <td>-0.70</td>\n",
       "      <td>-0.26</td>\n",
       "      <td>-0.06</td>\n",
       "      <td>0.05</td>\n",
       "      <td>-0.001962</td>\n",
       "    </tr>\n",
       "    <tr>\n",
       "      <th>5</th>\n",
       "      <td>2011-01-10</td>\n",
       "      <td>0.80</td>\n",
       "      <td>0.40</td>\n",
       "      <td>0.19</td>\n",
       "      <td>0.01</td>\n",
       "      <td>-0.001259</td>\n",
       "    </tr>\n",
       "  </tbody>\n",
       "</table>\n",
       "</div>"
      ],
      "text/plain": [
       "   trade_date  vix_009  vix_030  vix_090  vix_180   spy_ret\n",
       "1  2011-01-04     0.02    -0.23    -0.01    -0.21 -0.000551\n",
       "2  2011-01-05    -0.49    -0.36    -0.56    -0.41  0.005198\n",
       "3  2011-01-06     0.14     0.38     0.30     0.09 -0.001959\n",
       "4  2011-01-07    -0.70    -0.26    -0.06     0.05 -0.001962\n",
       "5  2011-01-10     0.80     0.40     0.19     0.01 -0.001259"
      ]
     },
     "execution_count": 3,
     "metadata": {},
     "output_type": "execute_result"
    }
   ],
   "source": [
    "df_vix = df_vix[df_vix.trade_date > '2011-01-03']\n",
    "df_vix.head()"
   ]
  },
  {
   "cell_type": "markdown",
   "metadata": {},
   "source": [
    "#### 4) Add a column to `df_vix` called `spy_label_1`.  These will be the labels that we are trying to predict, and they will be a function of the *next day* return. If it is a loss the column will contain a 'L', otherwise it will contain a 'G'."
   ]
  },
  {
   "cell_type": "code",
   "execution_count": 4,
   "metadata": {},
   "outputs": [
    {
     "data": {
      "text/html": [
       "<div>\n",
       "<style scoped>\n",
       "    .dataframe tbody tr th:only-of-type {\n",
       "        vertical-align: middle;\n",
       "    }\n",
       "\n",
       "    .dataframe tbody tr th {\n",
       "        vertical-align: top;\n",
       "    }\n",
       "\n",
       "    .dataframe thead th {\n",
       "        text-align: right;\n",
       "    }\n",
       "</style>\n",
       "<table border=\"1\" class=\"dataframe\">\n",
       "  <thead>\n",
       "    <tr style=\"text-align: right;\">\n",
       "      <th></th>\n",
       "      <th>trade_date</th>\n",
       "      <th>vix_009</th>\n",
       "      <th>vix_030</th>\n",
       "      <th>vix_090</th>\n",
       "      <th>vix_180</th>\n",
       "      <th>spy_ret</th>\n",
       "      <th>spy_label_1</th>\n",
       "    </tr>\n",
       "  </thead>\n",
       "  <tbody>\n",
       "    <tr>\n",
       "      <th>2007</th>\n",
       "      <td>2018-12-24</td>\n",
       "      <td>8.66</td>\n",
       "      <td>5.96</td>\n",
       "      <td>2.61</td>\n",
       "      <td>1.50</td>\n",
       "      <td>-0.026423</td>\n",
       "      <td>G</td>\n",
       "    </tr>\n",
       "    <tr>\n",
       "      <th>2008</th>\n",
       "      <td>2018-12-26</td>\n",
       "      <td>-7.69</td>\n",
       "      <td>-5.66</td>\n",
       "      <td>-3.15</td>\n",
       "      <td>-1.99</td>\n",
       "      <td>0.050525</td>\n",
       "      <td>G</td>\n",
       "    </tr>\n",
       "    <tr>\n",
       "      <th>2009</th>\n",
       "      <td>2018-12-27</td>\n",
       "      <td>-0.83</td>\n",
       "      <td>-0.45</td>\n",
       "      <td>0.20</td>\n",
       "      <td>-0.14</td>\n",
       "      <td>0.007677</td>\n",
       "      <td>L</td>\n",
       "    </tr>\n",
       "    <tr>\n",
       "      <th>2010</th>\n",
       "      <td>2018-12-28</td>\n",
       "      <td>-2.86</td>\n",
       "      <td>-1.62</td>\n",
       "      <td>-0.57</td>\n",
       "      <td>-0.28</td>\n",
       "      <td>-0.001290</td>\n",
       "      <td>G</td>\n",
       "    </tr>\n",
       "    <tr>\n",
       "      <th>2011</th>\n",
       "      <td>2018-12-31</td>\n",
       "      <td>-3.67</td>\n",
       "      <td>-2.92</td>\n",
       "      <td>-1.59</td>\n",
       "      <td>-1.02</td>\n",
       "      <td>0.008759</td>\n",
       "      <td>NaN</td>\n",
       "    </tr>\n",
       "  </tbody>\n",
       "</table>\n",
       "</div>"
      ],
      "text/plain": [
       "      trade_date  vix_009  vix_030  vix_090  vix_180   spy_ret spy_label_1\n",
       "2007  2018-12-24     8.66     5.96     2.61     1.50 -0.026423           G\n",
       "2008  2018-12-26    -7.69    -5.66    -3.15    -1.99  0.050525           G\n",
       "2009  2018-12-27    -0.83    -0.45     0.20    -0.14  0.007677           L\n",
       "2010  2018-12-28    -2.86    -1.62    -0.57    -0.28 -0.001290           G\n",
       "2011  2018-12-31    -3.67    -2.92    -1.59    -1.02  0.008759         NaN"
      ]
     },
     "execution_count": 4,
     "metadata": {},
     "output_type": "execute_result"
    }
   ],
   "source": [
    "def labeler(ret):\n",
    "    if ret < 0:\n",
    "        return('L')\n",
    "    else:\n",
    "        return('G')\n",
    "df_vix['spy_label_1'] = df_vix['spy_ret'].apply(labeler).shift(-1)\n",
    "df_vix.tail()"
   ]
  },
  {
   "cell_type": "markdown",
   "metadata": {},
   "source": [
    "#### 5) Notice that in the final row of `df_vix`, the `spy_label_1` column contains a `NaN` value.  Remove the final row from `df_vix`."
   ]
  },
  {
   "cell_type": "code",
   "execution_count": 5,
   "metadata": {},
   "outputs": [
    {
     "data": {
      "text/html": [
       "<div>\n",
       "<style scoped>\n",
       "    .dataframe tbody tr th:only-of-type {\n",
       "        vertical-align: middle;\n",
       "    }\n",
       "\n",
       "    .dataframe tbody tr th {\n",
       "        vertical-align: top;\n",
       "    }\n",
       "\n",
       "    .dataframe thead th {\n",
       "        text-align: right;\n",
       "    }\n",
       "</style>\n",
       "<table border=\"1\" class=\"dataframe\">\n",
       "  <thead>\n",
       "    <tr style=\"text-align: right;\">\n",
       "      <th></th>\n",
       "      <th>trade_date</th>\n",
       "      <th>vix_009</th>\n",
       "      <th>vix_030</th>\n",
       "      <th>vix_090</th>\n",
       "      <th>vix_180</th>\n",
       "      <th>spy_ret</th>\n",
       "      <th>spy_label_1</th>\n",
       "    </tr>\n",
       "  </thead>\n",
       "  <tbody>\n",
       "    <tr>\n",
       "      <th>2006</th>\n",
       "      <td>2018-12-21</td>\n",
       "      <td>3.32</td>\n",
       "      <td>1.73</td>\n",
       "      <td>0.99</td>\n",
       "      <td>0.53</td>\n",
       "      <td>-0.020490</td>\n",
       "      <td>L</td>\n",
       "    </tr>\n",
       "    <tr>\n",
       "      <th>2007</th>\n",
       "      <td>2018-12-24</td>\n",
       "      <td>8.66</td>\n",
       "      <td>5.96</td>\n",
       "      <td>2.61</td>\n",
       "      <td>1.50</td>\n",
       "      <td>-0.026423</td>\n",
       "      <td>G</td>\n",
       "    </tr>\n",
       "    <tr>\n",
       "      <th>2008</th>\n",
       "      <td>2018-12-26</td>\n",
       "      <td>-7.69</td>\n",
       "      <td>-5.66</td>\n",
       "      <td>-3.15</td>\n",
       "      <td>-1.99</td>\n",
       "      <td>0.050525</td>\n",
       "      <td>G</td>\n",
       "    </tr>\n",
       "    <tr>\n",
       "      <th>2009</th>\n",
       "      <td>2018-12-27</td>\n",
       "      <td>-0.83</td>\n",
       "      <td>-0.45</td>\n",
       "      <td>0.20</td>\n",
       "      <td>-0.14</td>\n",
       "      <td>0.007677</td>\n",
       "      <td>L</td>\n",
       "    </tr>\n",
       "    <tr>\n",
       "      <th>2010</th>\n",
       "      <td>2018-12-28</td>\n",
       "      <td>-2.86</td>\n",
       "      <td>-1.62</td>\n",
       "      <td>-0.57</td>\n",
       "      <td>-0.28</td>\n",
       "      <td>-0.001290</td>\n",
       "      <td>G</td>\n",
       "    </tr>\n",
       "  </tbody>\n",
       "</table>\n",
       "</div>"
      ],
      "text/plain": [
       "      trade_date  vix_009  vix_030  vix_090  vix_180   spy_ret spy_label_1\n",
       "2006  2018-12-21     3.32     1.73     0.99     0.53 -0.020490           L\n",
       "2007  2018-12-24     8.66     5.96     2.61     1.50 -0.026423           G\n",
       "2008  2018-12-26    -7.69    -5.66    -3.15    -1.99  0.050525           G\n",
       "2009  2018-12-27    -0.83    -0.45     0.20    -0.14  0.007677           L\n",
       "2010  2018-12-28    -2.86    -1.62    -0.57    -0.28 -0.001290           G"
      ]
     },
     "execution_count": 5,
     "metadata": {},
     "output_type": "execute_result"
    }
   ],
   "source": [
    "df_vix = df_vix[df_vix.trade_date < '2018-12-31']\n",
    "df_vix.tail()"
   ]
  },
  {
   "cell_type": "markdown",
   "metadata": {},
   "source": [
    "  "
   ]
  },
  {
   "cell_type": "markdown",
   "metadata": {},
   "source": [
    "#### 6) Import the `KNeighborsClassifier` constructor, as well as the `scale` function and the `train_test_split` function."
   ]
  },
  {
   "cell_type": "code",
   "execution_count": 6,
   "metadata": {},
   "outputs": [],
   "source": [
    "from sklearn.neighbors import KNeighborsClassifier\n",
    "from sklearn.preprocessing import scale\n",
    "from sklearn.model_selection import train_test_split"
   ]
  },
  {
   "cell_type": "markdown",
   "metadata": {},
   "source": [
    "#### 7) Select all four VIX term structure points as your feature set and it `X`.  Also, isolate the labels you want to predict and call them `y`."
   ]
  },
  {
   "cell_type": "code",
   "execution_count": 7,
   "metadata": {},
   "outputs": [],
   "source": [
    "X = df_vix[['vix_009', 'vix_030', 'vix_090', 'vix_180']]\n",
    "y = df_vix['spy_label_1'].values"
   ]
  },
  {
   "cell_type": "markdown",
   "metadata": {},
   "source": [
    "#### 8) Use the `scale()` function to normalize the feature set; call the normalized features `Xs`."
   ]
  },
  {
   "cell_type": "code",
   "execution_count": 8,
   "metadata": {},
   "outputs": [],
   "source": [
    "Xs = scale(X)"
   ]
  },
  {
   "cell_type": "markdown",
   "metadata": {},
   "source": [
    "#### 9) Use `train_test_split()` to generate a training set and a hold out set.  Use the canonical variable names `X_train`, `X_test`, `y_train`, `y_test`.  Set the size of the test set to 20%."
   ]
  },
  {
   "cell_type": "code",
   "execution_count": 9,
   "metadata": {},
   "outputs": [],
   "source": [
    "X_train, X_test, y_train, y_test = train_test_split(Xs, y, test_size=0.20, random_state=0)"
   ]
  },
  {
   "cell_type": "markdown",
   "metadata": {},
   "source": [
    "#### 10) Instantiate the a KNN classifer with a hyperparameter of 10, and fit the model to the training set."
   ]
  },
  {
   "cell_type": "code",
   "execution_count": 10,
   "metadata": {},
   "outputs": [
    {
     "data": {
      "text/plain": [
       "KNeighborsClassifier(algorithm='auto', leaf_size=30, metric='minkowski',\n",
       "           metric_params=None, n_jobs=None, n_neighbors=10, p=2,\n",
       "           weights='uniform')"
      ]
     },
     "execution_count": 10,
     "metadata": {},
     "output_type": "execute_result"
    }
   ],
   "source": [
    "clf = KNeighborsClassifier(n_neighbors = 10)\n",
    "clf.fit(X_train, y_train)"
   ]
  },
  {
   "cell_type": "markdown",
   "metadata": {},
   "source": [
    "#### 11) Check the in-sample accuracy score of the model."
   ]
  },
  {
   "cell_type": "code",
   "execution_count": 11,
   "metadata": {},
   "outputs": [
    {
     "name": "stdout",
     "output_type": "stream",
     "text": [
      "0.6436567164179104\n"
     ]
    }
   ],
   "source": [
    "print(clf.score(X_train, y_train))"
   ]
  },
  {
   "cell_type": "markdown",
   "metadata": {},
   "source": [
    "#### 12) Check the out-of-sample accuracy score using the test set."
   ]
  },
  {
   "cell_type": "code",
   "execution_count": 12,
   "metadata": {},
   "outputs": [
    {
     "name": "stdout",
     "output_type": "stream",
     "text": [
      "0.5223880597014925\n"
     ]
    }
   ],
   "source": [
    "print(clf.score(X_test, y_test))"
   ]
  }
 ],
 "metadata": {
  "kernelspec": {
   "display_name": "Python 3",
   "language": "python",
   "name": "python3"
  },
  "language_info": {
   "codemirror_mode": {
    "name": "ipython",
    "version": 3
   },
   "file_extension": ".py",
   "mimetype": "text/x-python",
   "name": "python",
   "nbconvert_exporter": "python",
   "pygments_lexer": "ipython3",
   "version": "3.6.8"
  }
 },
 "nbformat": 4,
 "nbformat_minor": 2
}
