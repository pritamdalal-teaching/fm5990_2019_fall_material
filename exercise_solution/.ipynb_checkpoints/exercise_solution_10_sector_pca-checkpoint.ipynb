{
 "cells": [
  {
   "cell_type": "markdown",
   "metadata": {},
   "source": [
    "# Exercise 9 - Sector PCA"
   ]
  },
  {
   "cell_type": "markdown",
   "metadata": {},
   "source": [
    "The SPDR Select Funds track specific sectors within the S&P 500.  The purpose of this exercise is the guide you through performing a PCA analysis on the returns of these sector ETFs."
   ]
  },
  {
   "cell_type": "markdown",
   "metadata": {},
   "source": [
    "#### 1) Import any packages that you think you will need."
   ]
  },
  {
   "cell_type": "code",
   "execution_count": 1,
   "metadata": {},
   "outputs": [],
   "source": [
    "import pandas as pd\n",
    "import numpy as np\n",
    "import sklearn"
   ]
  },
  {
   "cell_type": "markdown",
   "metadata": {},
   "source": [
    "#### 2) Read-in the data in `sector_pca.csv` into a `DataFrame` called `df_sector`."
   ]
  },
  {
   "cell_type": "code",
   "execution_count": 4,
   "metadata": {},
   "outputs": [
    {
     "data": {
      "text/html": [
       "<div>\n",
       "<style scoped>\n",
       "    .dataframe tbody tr th:only-of-type {\n",
       "        vertical-align: middle;\n",
       "    }\n",
       "\n",
       "    .dataframe tbody tr th {\n",
       "        vertical-align: top;\n",
       "    }\n",
       "\n",
       "    .dataframe thead th {\n",
       "        text-align: right;\n",
       "    }\n",
       "</style>\n",
       "<table border=\"1\" class=\"dataframe\">\n",
       "  <thead>\n",
       "    <tr style=\"text-align: right;\">\n",
       "      <th></th>\n",
       "      <th>date</th>\n",
       "      <th>XLB</th>\n",
       "      <th>XLE</th>\n",
       "      <th>XLF</th>\n",
       "      <th>XLI</th>\n",
       "      <th>XLK</th>\n",
       "      <th>XLP</th>\n",
       "      <th>XLU</th>\n",
       "      <th>XLV</th>\n",
       "      <th>XLY</th>\n",
       "    </tr>\n",
       "  </thead>\n",
       "  <tbody>\n",
       "    <tr>\n",
       "      <th>0</th>\n",
       "      <td>2005-01-03</td>\n",
       "      <td>-0.010142</td>\n",
       "      <td>-0.037592</td>\n",
       "      <td>-0.003610</td>\n",
       "      <td>-0.008728</td>\n",
       "      <td>-0.008563</td>\n",
       "      <td>0.000000</td>\n",
       "      <td>-0.011557</td>\n",
       "      <td>-0.011661</td>\n",
       "      <td>-0.006539</td>\n",
       "    </tr>\n",
       "    <tr>\n",
       "      <th>1</th>\n",
       "      <td>2005-01-04</td>\n",
       "      <td>-0.018173</td>\n",
       "      <td>-0.005159</td>\n",
       "      <td>-0.009578</td>\n",
       "      <td>-0.012415</td>\n",
       "      <td>-0.018809</td>\n",
       "      <td>-0.003472</td>\n",
       "      <td>-0.006926</td>\n",
       "      <td>-0.008075</td>\n",
       "      <td>-0.011764</td>\n",
       "    </tr>\n",
       "    <tr>\n",
       "      <th>2</th>\n",
       "      <td>2005-01-05</td>\n",
       "      <td>-0.013938</td>\n",
       "      <td>-0.004320</td>\n",
       "      <td>-0.001661</td>\n",
       "      <td>-0.006927</td>\n",
       "      <td>-0.003414</td>\n",
       "      <td>-0.005231</td>\n",
       "      <td>-0.015853</td>\n",
       "      <td>-0.001691</td>\n",
       "      <td>-0.003759</td>\n",
       "    </tr>\n",
       "    <tr>\n",
       "      <th>3</th>\n",
       "      <td>2005-01-06</td>\n",
       "      <td>0.006645</td>\n",
       "      <td>0.017168</td>\n",
       "      <td>0.004974</td>\n",
       "      <td>0.003305</td>\n",
       "      <td>-0.002935</td>\n",
       "      <td>0.004796</td>\n",
       "      <td>0.005189</td>\n",
       "      <td>0.007418</td>\n",
       "      <td>-0.005229</td>\n",
       "    </tr>\n",
       "    <tr>\n",
       "      <th>4</th>\n",
       "      <td>2005-01-07</td>\n",
       "      <td>0.001741</td>\n",
       "      <td>-0.007975</td>\n",
       "      <td>-0.005307</td>\n",
       "      <td>-0.004630</td>\n",
       "      <td>0.001958</td>\n",
       "      <td>0.004773</td>\n",
       "      <td>0.000000</td>\n",
       "      <td>-0.000672</td>\n",
       "      <td>-0.000291</td>\n",
       "    </tr>\n",
       "  </tbody>\n",
       "</table>\n",
       "</div>"
      ],
      "text/plain": [
       "         date       XLB       XLE       XLF       XLI       XLK       XLP  \\\n",
       "0  2005-01-03 -0.010142 -0.037592 -0.003610 -0.008728 -0.008563  0.000000   \n",
       "1  2005-01-04 -0.018173 -0.005159 -0.009578 -0.012415 -0.018809 -0.003472   \n",
       "2  2005-01-05 -0.013938 -0.004320 -0.001661 -0.006927 -0.003414 -0.005231   \n",
       "3  2005-01-06  0.006645  0.017168  0.004974  0.003305 -0.002935  0.004796   \n",
       "4  2005-01-07  0.001741 -0.007975 -0.005307 -0.004630  0.001958  0.004773   \n",
       "\n",
       "        XLU       XLV       XLY  \n",
       "0 -0.011557 -0.011661 -0.006539  \n",
       "1 -0.006926 -0.008075 -0.011764  \n",
       "2 -0.015853 -0.001691 -0.003759  \n",
       "3  0.005189  0.007418 -0.005229  \n",
       "4  0.000000 -0.000672 -0.000291  "
      ]
     },
     "execution_count": 4,
     "metadata": {},
     "output_type": "execute_result"
    }
   ],
   "source": [
    "df_sector = pd.read_csv('../data/sector_pca.csv')\n",
    "df_sector.head()"
   ]
  },
  {
   "cell_type": "markdown",
   "metadata": {},
   "source": [
    "#### 3) Select the features into a variable called `X`. "
   ]
  },
  {
   "cell_type": "code",
   "execution_count": 21,
   "metadata": {},
   "outputs": [],
   "source": [
    "tickers = ['XLB', 'XLE', 'XLF', 'XLI', 'XLK', 'XLP', 'XLU', 'XLV', 'XLY']\n",
    "X = df_sector[tickers]"
   ]
  },
  {
   "cell_type": "markdown",
   "metadata": {},
   "source": [
    "#### 4) Scale the features to have zero mean and unity standard deviation.  Call the scaled feature set `Xs`. "
   ]
  },
  {
   "cell_type": "code",
   "execution_count": null,
   "metadata": {},
   "outputs": [],
   "source": [
    "from sklearn.preprocessing import scale\n",
    "Xs = scale(X)"
   ]
  },
  {
   "cell_type": "markdown",
   "metadata": {},
   "source": [
    "#### 5) Fit a 9 component PCA to the `Xs`."
   ]
  },
  {
   "cell_type": "code",
   "execution_count": 29,
   "metadata": {},
   "outputs": [
    {
     "data": {
      "text/plain": [
       "PCA(copy=True, iterated_power='auto', n_components=9, random_state=None,\n",
       "  svd_solver='auto', tol=0.0, whiten=False)"
      ]
     },
     "execution_count": 29,
     "metadata": {},
     "output_type": "execute_result"
    }
   ],
   "source": [
    "from sklearn.decomposition import PCA\n",
    "pca = PCA(n_components=9)\n",
    "pca.fit(Xs)"
   ]
  },
  {
   "cell_type": "markdown",
   "metadata": {},
   "source": [
    "#### 6) How much of the total variance is explained by the first principal component?"
   ]
  },
  {
   "cell_type": "code",
   "execution_count": 30,
   "metadata": {},
   "outputs": [
    {
     "data": {
      "text/plain": [
       "array([0.72194791, 0.07137035, 0.06037255, 0.04100852, 0.02951259,\n",
       "       0.0265882 , 0.02089828, 0.01611402, 0.01218758])"
      ]
     },
     "execution_count": 30,
     "metadata": {},
     "output_type": "execute_result"
    }
   ],
   "source": [
    "# 72% - quite a lot.\n",
    "pca.explained_variance_ratio_"
   ]
  },
  {
   "cell_type": "markdown",
   "metadata": {},
   "source": [
    "#### 7) Take a look at the first principal component.  What intuitive interpretation would you give this component?  What does the answer to #6 say about these ETFs?"
   ]
  },
  {
   "cell_type": "code",
   "execution_count": 32,
   "metadata": {},
   "outputs": [
    {
     "data": {
      "text/plain": [
       "array([0.34840434, 0.31580895, 0.3220895 , 0.36552246, 0.3516688 ,\n",
       "       0.32407664, 0.28206168, 0.32564309, 0.35669593])"
      ]
     },
     "execution_count": 32,
     "metadata": {},
     "output_type": "execute_result"
    }
   ],
   "source": [
    "# this components represents all the ETFs rising and falling simulataneously.  \n",
    "# The fact that 72% of the variance comes from this component demonstrates that these\n",
    "# ETFs are highly correlated with one another.\n",
    "pca.components_[0]"
   ]
  }
 ],
 "metadata": {
  "kernelspec": {
   "display_name": "Python 3",
   "language": "python",
   "name": "python3"
  },
  "language_info": {
   "codemirror_mode": {
    "name": "ipython",
    "version": 3
   },
   "file_extension": ".py",
   "mimetype": "text/x-python",
   "name": "python",
   "nbconvert_exporter": "python",
   "pygments_lexer": "ipython3",
   "version": "3.6.8"
  }
 },
 "nbformat": 4,
 "nbformat_minor": 2
}
